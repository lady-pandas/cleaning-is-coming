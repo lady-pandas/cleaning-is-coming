{
 "cells": [
  {
   "cell_type": "code",
   "execution_count": 1,
   "metadata": {
    "ExecuteTime": {
     "end_time": "2021-04-21T06:22:32.171205Z",
     "start_time": "2021-04-21T06:22:17.253299Z"
    }
   },
   "outputs": [],
   "source": [
    "import pandas as pd\n",
    "import numpy as np\n",
    "\n",
    "from sklearn.ensemble import RandomForestClassifier\n",
    "from sklearn.metrics import accuracy_score\n",
    "from sklearn.decomposition import PCA\n",
    "\n",
    "from sentence_transformers import SentenceTransformer"
   ]
  },
  {
   "cell_type": "code",
   "execution_count": 2,
   "metadata": {
    "ExecuteTime": {
     "end_time": "2021-04-21T06:22:35.033386Z",
     "start_time": "2021-04-21T06:22:35.008455Z"
    }
   },
   "outputs": [],
   "source": [
    "titanic = pd.read_csv('data/titanic.csv')"
   ]
  },
  {
   "cell_type": "code",
   "execution_count": 3,
   "metadata": {
    "ExecuteTime": {
     "end_time": "2021-04-21T06:22:36.659788Z",
     "start_time": "2021-04-21T06:22:36.632861Z"
    }
   },
   "outputs": [
    {
     "data": {
      "text/html": [
       "<div>\n",
       "<style scoped>\n",
       "    .dataframe tbody tr th:only-of-type {\n",
       "        vertical-align: middle;\n",
       "    }\n",
       "\n",
       "    .dataframe tbody tr th {\n",
       "        vertical-align: top;\n",
       "    }\n",
       "\n",
       "    .dataframe thead th {\n",
       "        text-align: right;\n",
       "    }\n",
       "</style>\n",
       "<table border=\"1\" class=\"dataframe\">\n",
       "  <thead>\n",
       "    <tr style=\"text-align: right;\">\n",
       "      <th></th>\n",
       "      <th>PassengerId</th>\n",
       "      <th>Survived</th>\n",
       "      <th>Pclass</th>\n",
       "      <th>Name</th>\n",
       "      <th>Sex</th>\n",
       "      <th>Age</th>\n",
       "      <th>SibSp</th>\n",
       "      <th>Parch</th>\n",
       "      <th>Ticket</th>\n",
       "      <th>Fare</th>\n",
       "      <th>Cabin</th>\n",
       "      <th>Embarked</th>\n",
       "    </tr>\n",
       "  </thead>\n",
       "  <tbody>\n",
       "    <tr>\n",
       "      <th>0</th>\n",
       "      <td>1</td>\n",
       "      <td>0</td>\n",
       "      <td>3</td>\n",
       "      <td>Braund, Mr. Owen Harris</td>\n",
       "      <td>male</td>\n",
       "      <td>22.0</td>\n",
       "      <td>1</td>\n",
       "      <td>0</td>\n",
       "      <td>A/5 21171</td>\n",
       "      <td>7.2500</td>\n",
       "      <td>NaN</td>\n",
       "      <td>S</td>\n",
       "    </tr>\n",
       "    <tr>\n",
       "      <th>1</th>\n",
       "      <td>2</td>\n",
       "      <td>1</td>\n",
       "      <td>1</td>\n",
       "      <td>Cumings, Mrs. John Bradley (Florence Briggs Th...</td>\n",
       "      <td>female</td>\n",
       "      <td>38.0</td>\n",
       "      <td>1</td>\n",
       "      <td>0</td>\n",
       "      <td>PC 17599</td>\n",
       "      <td>71.2833</td>\n",
       "      <td>C85</td>\n",
       "      <td>C</td>\n",
       "    </tr>\n",
       "  </tbody>\n",
       "</table>\n",
       "</div>"
      ],
      "text/plain": [
       "   PassengerId  Survived  Pclass  \\\n",
       "0            1         0       3   \n",
       "1            2         1       1   \n",
       "\n",
       "                                                Name     Sex   Age  SibSp  \\\n",
       "0                            Braund, Mr. Owen Harris    male  22.0      1   \n",
       "1  Cumings, Mrs. John Bradley (Florence Briggs Th...  female  38.0      1   \n",
       "\n",
       "   Parch     Ticket     Fare Cabin Embarked  \n",
       "0      0  A/5 21171   7.2500   NaN        S  \n",
       "1      0   PC 17599  71.2833   C85        C  "
      ]
     },
     "execution_count": 3,
     "metadata": {},
     "output_type": "execute_result"
    }
   ],
   "source": [
    "titanic.head(2)"
   ]
  },
  {
   "cell_type": "code",
   "execution_count": 4,
   "metadata": {
    "ExecuteTime": {
     "end_time": "2021-04-21T06:27:52.405406Z",
     "start_time": "2021-04-21T06:27:52.388451Z"
    }
   },
   "outputs": [],
   "source": [
    "uncleaned_name = 'uncleaned'"
   ]
  },
  {
   "cell_type": "code",
   "execution_count": 5,
   "metadata": {
    "ExecuteTime": {
     "end_time": "2021-04-21T06:27:53.432974Z",
     "start_time": "2021-04-21T06:27:53.415020Z"
    }
   },
   "outputs": [],
   "source": [
    "titanic[uncleaned_name] = titanic['Sex']"
   ]
  },
  {
   "cell_type": "code",
   "execution_count": 6,
   "metadata": {
    "ExecuteTime": {
     "end_time": "2021-04-21T06:27:56.632447Z",
     "start_time": "2021-04-21T06:27:56.624468Z"
    }
   },
   "outputs": [],
   "source": [
    "messing_up_dict = {\n",
    "    'female': ['kobieta', 'mujer', 'kobiet', 'dziewczyna', 'femme', 'famale'],\n",
    "    'male': ['facet',  'Mr.', 'monsieur', 'm ale'],\n",
    "}"
   ]
  },
  {
   "cell_type": "code",
   "execution_count": 7,
   "metadata": {
    "ExecuteTime": {
     "end_time": "2021-04-21T06:27:59.937532Z",
     "start_time": "2021-04-21T06:27:59.853659Z"
    }
   },
   "outputs": [],
   "source": [
    "for k, v in messing_up_dict.items():\n",
    "    sampled_indexes = titanic[titanic['Sex']==k].sample(frac=0.2).index\n",
    "    for i in sampled_indexes:\n",
    "        titanic.loc[i, uncleaned_name] = np.random.choice(v)"
   ]
  },
  {
   "cell_type": "code",
   "execution_count": 8,
   "metadata": {
    "ExecuteTime": {
     "end_time": "2021-04-21T06:28:01.144420Z",
     "start_time": "2021-04-21T06:28:01.120485Z"
    }
   },
   "outputs": [
    {
     "data": {
      "text/plain": [
       "male          462\n",
       "female        251\n",
       "monsieur       31\n",
       "Mr.            29\n",
       "facet          28\n",
       "m ale          27\n",
       "kobiet         14\n",
       "famale         13\n",
       "mujer          11\n",
       "kobieta         9\n",
       "dziewczyna      8\n",
       "femme           8\n",
       "Name: uncleaned, dtype: int64"
      ]
     },
     "execution_count": 8,
     "metadata": {},
     "output_type": "execute_result"
    }
   ],
   "source": [
    "titanic[uncleaned_name].value_counts()"
   ]
  },
  {
   "cell_type": "code",
   "execution_count": 9,
   "metadata": {
    "ExecuteTime": {
     "end_time": "2021-04-21T06:28:04.729186Z",
     "start_time": "2021-04-21T06:28:04.704254Z"
    }
   },
   "outputs": [],
   "source": [
    "uncleaned = titanic.groupby(uncleaned_name).agg({'PassengerId': 'count'}).reset_index()"
   ]
  },
  {
   "cell_type": "code",
   "execution_count": 10,
   "metadata": {
    "ExecuteTime": {
     "end_time": "2021-04-21T06:28:06.048198Z",
     "start_time": "2021-04-21T06:28:06.043210Z"
    }
   },
   "outputs": [],
   "source": [
    "# introduce mess in the data\n",
    "sex = uncleaned[uncleaned_name]"
   ]
  },
  {
   "cell_type": "code",
   "execution_count": 222,
   "metadata": {
    "ExecuteTime": {
     "end_time": "2021-04-17T16:58:52.297967Z",
     "start_time": "2021-04-17T16:58:49.316499Z"
    }
   },
   "outputs": [],
   "source": [
    "# pretrained model for multi language problems\n",
    "sbert_model = SentenceTransformer('distiluse-base-multilingual-cased')\n",
    "sentence_embeddings = sbert_model.encode(sex)"
   ]
  },
  {
   "cell_type": "code",
   "execution_count": 223,
   "metadata": {
    "ExecuteTime": {
     "end_time": "2021-04-17T16:58:52.439558Z",
     "start_time": "2021-04-17T16:58:52.412632Z"
    }
   },
   "outputs": [],
   "source": [
    "# business knowledge about number of instances in a group\n",
    "pca = PCA(n_components=1)\n",
    "pca_comp = pca.fit_transform(pd.DataFrame(sentence_embeddings))"
   ]
  },
  {
   "cell_type": "code",
   "execution_count": 224,
   "metadata": {
    "ExecuteTime": {
     "end_time": "2021-04-17T16:58:52.564327Z",
     "start_time": "2021-04-17T16:58:52.550317Z"
    }
   },
   "outputs": [],
   "source": [
    "# mapping to new vectors\n",
    "titanic_ext = titanic.merge(pd.DataFrame({uncleaned_name: sex, 'pca': [el[0] for el in pca_comp]}))"
   ]
  },
  {
   "cell_type": "code",
   "execution_count": 225,
   "metadata": {
    "ExecuteTime": {
     "end_time": "2021-04-17T16:58:52.674018Z",
     "start_time": "2021-04-17T16:58:52.660888Z"
    }
   },
   "outputs": [],
   "source": [
    "# sanity check\n",
    "# titanic_ext.groupby('Sex').agg({'pca': 'mean'})"
   ]
  },
  {
   "cell_type": "code",
   "execution_count": 226,
   "metadata": {
    "ExecuteTime": {
     "end_time": "2021-04-17T16:58:52.784986Z",
     "start_time": "2021-04-17T16:58:52.772785Z"
    }
   },
   "outputs": [],
   "source": [
    "rf = RandomForestClassifier()"
   ]
  },
  {
   "cell_type": "code",
   "execution_count": 227,
   "metadata": {
    "ExecuteTime": {
     "end_time": "2021-04-17T16:58:53.097459Z",
     "start_time": "2021-04-17T16:58:53.083558Z"
    }
   },
   "outputs": [],
   "source": [
    "y = titanic_ext['Survived']"
   ]
  },
  {
   "cell_type": "code",
   "execution_count": 228,
   "metadata": {
    "ExecuteTime": {
     "end_time": "2021-04-17T16:58:54.145816Z",
     "start_time": "2021-04-17T16:58:53.891465Z"
    }
   },
   "outputs": [
    {
     "data": {
      "text/plain": [
       "0.7867564534231201"
      ]
     },
     "execution_count": 228,
     "metadata": {},
     "output_type": "execute_result"
    }
   ],
   "source": [
    "X = titanic_ext[['pca']]\n",
    "rf.fit(X, y)\n",
    "accuracy_score(y, rf.predict(X))"
   ]
  },
  {
   "cell_type": "code",
   "execution_count": 229,
   "metadata": {
    "ExecuteTime": {
     "end_time": "2021-04-17T16:58:54.954150Z",
     "start_time": "2021-04-17T16:58:54.731557Z"
    }
   },
   "outputs": [
    {
     "data": {
      "text/plain": [
       "0.7867564534231201"
      ]
     },
     "execution_count": 229,
     "metadata": {},
     "output_type": "execute_result"
    }
   ],
   "source": [
    "X = pd.get_dummies(titanic_ext[['Sex']], drop_first=True)\n",
    "rf.fit(X, y)\n",
    "accuracy_score(y, rf.predict(X))"
   ]
  },
  {
   "cell_type": "code",
   "execution_count": null,
   "metadata": {},
   "outputs": [],
   "source": []
  }
 ],
 "metadata": {
  "hide_input": false,
  "kernelspec": {
   "display_name": "Python 3",
   "language": "python",
   "name": "python3"
  },
  "language_info": {
   "codemirror_mode": {
    "name": "ipython",
    "version": 3
   },
   "file_extension": ".py",
   "mimetype": "text/x-python",
   "name": "python",
   "nbconvert_exporter": "python",
   "pygments_lexer": "ipython3",
   "version": "3.8.6"
  },
  "toc": {
   "base_numbering": 1,
   "nav_menu": {},
   "number_sections": true,
   "sideBar": true,
   "skip_h1_title": false,
   "title_cell": "Table of Contents",
   "title_sidebar": "Contents",
   "toc_cell": false,
   "toc_position": {},
   "toc_section_display": true,
   "toc_window_display": false
  },
  "varInspector": {
   "cols": {
    "lenName": 16,
    "lenType": 16,
    "lenVar": 40
   },
   "kernels_config": {
    "python": {
     "delete_cmd_postfix": "",
     "delete_cmd_prefix": "del ",
     "library": "var_list.py",
     "varRefreshCmd": "print(var_dic_list())"
    },
    "r": {
     "delete_cmd_postfix": ") ",
     "delete_cmd_prefix": "rm(",
     "library": "var_list.r",
     "varRefreshCmd": "cat(var_dic_list()) "
    }
   },
   "types_to_exclude": [
    "module",
    "function",
    "builtin_function_or_method",
    "instance",
    "_Feature"
   ],
   "window_display": false
  }
 },
 "nbformat": 4,
 "nbformat_minor": 4
}
