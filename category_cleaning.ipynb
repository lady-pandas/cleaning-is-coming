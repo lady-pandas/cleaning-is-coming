{
 "cells": [
  {
   "cell_type": "code",
   "execution_count": 1,
   "metadata": {
    "ExecuteTime": {
     "end_time": "2021-06-13T12:04:02.341099Z",
     "start_time": "2021-06-13T12:03:54.198191Z"
    }
   },
   "outputs": [],
   "source": [
    "import pandas as pd\n",
    "import numpy as np\n",
    "\n",
    "from sklearn.ensemble import RandomForestClassifier, RandomForestRegressor\n",
    "from sklearn.metrics import accuracy_score\n",
    "from sklearn.decomposition import PCA\n",
    "from sklearn.cluster import KMeans\n",
    "from sklearn.model_selection import StratifiedKFold\n",
    "from sklearn.model_selection import cross_val_score\n",
    "from sklearn.metrics.pairwise import cosine_similarity\n",
    "\n",
    "from sentence_transformers import SentenceTransformer\n",
    "import umap"
   ]
  },
  {
   "cell_type": "code",
   "execution_count": 2,
   "metadata": {
    "ExecuteTime": {
     "end_time": "2021-06-13T12:04:02.388246Z",
     "start_time": "2021-06-13T12:04:02.346131Z"
    }
   },
   "outputs": [],
   "source": [
    "titanic = pd.read_csv('data/titanic.csv')"
   ]
  },
  {
   "cell_type": "code",
   "execution_count": 3,
   "metadata": {
    "ExecuteTime": {
     "end_time": "2021-06-13T12:04:02.450438Z",
     "start_time": "2021-06-13T12:04:02.396478Z"
    }
   },
   "outputs": [
    {
     "data": {
      "text/html": [
       "<div>\n",
       "<style scoped>\n",
       "    .dataframe tbody tr th:only-of-type {\n",
       "        vertical-align: middle;\n",
       "    }\n",
       "\n",
       "    .dataframe tbody tr th {\n",
       "        vertical-align: top;\n",
       "    }\n",
       "\n",
       "    .dataframe thead th {\n",
       "        text-align: right;\n",
       "    }\n",
       "</style>\n",
       "<table border=\"1\" class=\"dataframe\">\n",
       "  <thead>\n",
       "    <tr style=\"text-align: right;\">\n",
       "      <th></th>\n",
       "      <th>PassengerId</th>\n",
       "      <th>Survived</th>\n",
       "      <th>Pclass</th>\n",
       "      <th>Name</th>\n",
       "      <th>Sex</th>\n",
       "      <th>Age</th>\n",
       "      <th>SibSp</th>\n",
       "      <th>Parch</th>\n",
       "      <th>Ticket</th>\n",
       "      <th>Fare</th>\n",
       "      <th>Cabin</th>\n",
       "      <th>Embarked</th>\n",
       "    </tr>\n",
       "  </thead>\n",
       "  <tbody>\n",
       "    <tr>\n",
       "      <th>0</th>\n",
       "      <td>1</td>\n",
       "      <td>0</td>\n",
       "      <td>3</td>\n",
       "      <td>Braund, Mr. Owen Harris</td>\n",
       "      <td>male</td>\n",
       "      <td>22.0</td>\n",
       "      <td>1</td>\n",
       "      <td>0</td>\n",
       "      <td>A/5 21171</td>\n",
       "      <td>7.2500</td>\n",
       "      <td>NaN</td>\n",
       "      <td>S</td>\n",
       "    </tr>\n",
       "    <tr>\n",
       "      <th>1</th>\n",
       "      <td>2</td>\n",
       "      <td>1</td>\n",
       "      <td>1</td>\n",
       "      <td>Cumings, Mrs. John Bradley (Florence Briggs Th...</td>\n",
       "      <td>female</td>\n",
       "      <td>38.0</td>\n",
       "      <td>1</td>\n",
       "      <td>0</td>\n",
       "      <td>PC 17599</td>\n",
       "      <td>71.2833</td>\n",
       "      <td>C85</td>\n",
       "      <td>C</td>\n",
       "    </tr>\n",
       "  </tbody>\n",
       "</table>\n",
       "</div>"
      ],
      "text/plain": [
       "   PassengerId  Survived  Pclass  \\\n",
       "0            1         0       3   \n",
       "1            2         1       1   \n",
       "\n",
       "                                                Name     Sex   Age  SibSp  \\\n",
       "0                            Braund, Mr. Owen Harris    male  22.0      1   \n",
       "1  Cumings, Mrs. John Bradley (Florence Briggs Th...  female  38.0      1   \n",
       "\n",
       "   Parch     Ticket     Fare Cabin Embarked  \n",
       "0      0  A/5 21171   7.2500   NaN        S  \n",
       "1      0   PC 17599  71.2833   C85        C  "
      ]
     },
     "execution_count": 3,
     "metadata": {},
     "output_type": "execute_result"
    }
   ],
   "source": [
    "titanic.head(2)"
   ]
  },
  {
   "cell_type": "markdown",
   "metadata": {
    "ExecuteTime": {
     "end_time": "2021-05-16T08:45:41.875250Z",
     "start_time": "2021-05-16T08:45:41.862288Z"
    }
   },
   "source": [
    "# Missing data\n",
    "## missForest\n",
    "Step by step missForest on a generated example"
   ]
  },
  {
   "cell_type": "code",
   "execution_count": 4,
   "metadata": {
    "ExecuteTime": {
     "end_time": "2021-06-13T12:04:02.482662Z",
     "start_time": "2021-06-13T12:04:02.454863Z"
    }
   },
   "outputs": [],
   "source": [
    "titanic_uncleaned = titanic.copy()"
   ]
  },
  {
   "cell_type": "code",
   "execution_count": 5,
   "metadata": {
    "ExecuteTime": {
     "end_time": "2021-06-13T12:04:02.513772Z",
     "start_time": "2021-06-13T12:04:02.489231Z"
    }
   },
   "outputs": [
    {
     "data": {
      "text/plain": [
       "(0, 0)"
      ]
     },
     "execution_count": 5,
     "metadata": {},
     "output_type": "execute_result"
    }
   ],
   "source": [
    "titanic_uncleaned['Sex'].isnull().sum(), titanic_uncleaned['Fare'].isnull().sum()"
   ]
  },
  {
   "cell_type": "code",
   "execution_count": 6,
   "metadata": {
    "ExecuteTime": {
     "end_time": "2021-06-13T12:04:02.560648Z",
     "start_time": "2021-06-13T12:04:02.517942Z"
    }
   },
   "outputs": [
    {
     "data": {
      "text/plain": [
       "male      577\n",
       "female    314\n",
       "Name: Sex, dtype: int64"
      ]
     },
     "execution_count": 6,
     "metadata": {},
     "output_type": "execute_result"
    }
   ],
   "source": [
    "titanic_uncleaned['Sex'].value_counts()"
   ]
  },
  {
   "cell_type": "code",
   "execution_count": 7,
   "metadata": {
    "ExecuteTime": {
     "end_time": "2021-06-13T12:04:02.592563Z",
     "start_time": "2021-06-13T12:04:02.563639Z"
    }
   },
   "outputs": [
    {
     "data": {
      "text/plain": [
       "32.204207968574636"
      ]
     },
     "execution_count": 7,
     "metadata": {},
     "output_type": "execute_result"
    }
   ],
   "source": [
    "titanic_uncleaned['Fare'].mean()"
   ]
  },
  {
   "cell_type": "code",
   "execution_count": 8,
   "metadata": {
    "ExecuteTime": {
     "end_time": "2021-06-13T12:04:02.624175Z",
     "start_time": "2021-06-13T12:04:02.597574Z"
    }
   },
   "outputs": [],
   "source": [
    "titanic_uncleaned.loc[titanic_uncleaned.sample(6).index,'Sex'] = None\n",
    "titanic_uncleaned.loc[titanic_uncleaned.sample(6).index,'Fare'] = None"
   ]
  },
  {
   "cell_type": "code",
   "execution_count": 9,
   "metadata": {
    "ExecuteTime": {
     "end_time": "2021-06-13T12:04:02.671424Z",
     "start_time": "2021-06-13T12:04:02.629489Z"
    }
   },
   "outputs": [
    {
     "data": {
      "text/html": [
       "<div>\n",
       "<style scoped>\n",
       "    .dataframe tbody tr th:only-of-type {\n",
       "        vertical-align: middle;\n",
       "    }\n",
       "\n",
       "    .dataframe tbody tr th {\n",
       "        vertical-align: top;\n",
       "    }\n",
       "\n",
       "    .dataframe thead th {\n",
       "        text-align: right;\n",
       "    }\n",
       "</style>\n",
       "<table border=\"1\" class=\"dataframe\">\n",
       "  <thead>\n",
       "    <tr style=\"text-align: right;\">\n",
       "      <th></th>\n",
       "      <th>Survived</th>\n",
       "      <th>Pclass</th>\n",
       "      <th>Sex</th>\n",
       "      <th>Fare</th>\n",
       "      <th>Embarked</th>\n",
       "    </tr>\n",
       "  </thead>\n",
       "  <tbody>\n",
       "    <tr>\n",
       "      <th>1</th>\n",
       "      <td>1</td>\n",
       "      <td>1</td>\n",
       "      <td>female</td>\n",
       "      <td>71.2833</td>\n",
       "      <td>C</td>\n",
       "    </tr>\n",
       "    <tr>\n",
       "      <th>2</th>\n",
       "      <td>1</td>\n",
       "      <td>3</td>\n",
       "      <td>female</td>\n",
       "      <td>7.9250</td>\n",
       "      <td>S</td>\n",
       "    </tr>\n",
       "    <tr>\n",
       "      <th>30</th>\n",
       "      <td>0</td>\n",
       "      <td>1</td>\n",
       "      <td>male</td>\n",
       "      <td>27.7208</td>\n",
       "      <td>C</td>\n",
       "    </tr>\n",
       "    <tr>\n",
       "      <th>42</th>\n",
       "      <td>0</td>\n",
       "      <td>3</td>\n",
       "      <td>male</td>\n",
       "      <td>7.8958</td>\n",
       "      <td>C</td>\n",
       "    </tr>\n",
       "    <tr>\n",
       "      <th>150</th>\n",
       "      <td>0</td>\n",
       "      <td>2</td>\n",
       "      <td>None</td>\n",
       "      <td>12.5250</td>\n",
       "      <td>S</td>\n",
       "    </tr>\n",
       "    <tr>\n",
       "      <th>233</th>\n",
       "      <td>1</td>\n",
       "      <td>3</td>\n",
       "      <td>None</td>\n",
       "      <td>31.3875</td>\n",
       "      <td>S</td>\n",
       "    </tr>\n",
       "    <tr>\n",
       "      <th>261</th>\n",
       "      <td>1</td>\n",
       "      <td>3</td>\n",
       "      <td>male</td>\n",
       "      <td>NaN</td>\n",
       "      <td>S</td>\n",
       "    </tr>\n",
       "    <tr>\n",
       "      <th>327</th>\n",
       "      <td>1</td>\n",
       "      <td>2</td>\n",
       "      <td>None</td>\n",
       "      <td>13.0000</td>\n",
       "      <td>S</td>\n",
       "    </tr>\n",
       "    <tr>\n",
       "      <th>396</th>\n",
       "      <td>0</td>\n",
       "      <td>3</td>\n",
       "      <td>female</td>\n",
       "      <td>NaN</td>\n",
       "      <td>S</td>\n",
       "    </tr>\n",
       "    <tr>\n",
       "      <th>416</th>\n",
       "      <td>1</td>\n",
       "      <td>2</td>\n",
       "      <td>female</td>\n",
       "      <td>NaN</td>\n",
       "      <td>S</td>\n",
       "    </tr>\n",
       "    <tr>\n",
       "      <th>476</th>\n",
       "      <td>0</td>\n",
       "      <td>2</td>\n",
       "      <td>None</td>\n",
       "      <td>21.0000</td>\n",
       "      <td>S</td>\n",
       "    </tr>\n",
       "    <tr>\n",
       "      <th>765</th>\n",
       "      <td>1</td>\n",
       "      <td>1</td>\n",
       "      <td>female</td>\n",
       "      <td>NaN</td>\n",
       "      <td>S</td>\n",
       "    </tr>\n",
       "    <tr>\n",
       "      <th>776</th>\n",
       "      <td>0</td>\n",
       "      <td>3</td>\n",
       "      <td>None</td>\n",
       "      <td>7.7500</td>\n",
       "      <td>Q</td>\n",
       "    </tr>\n",
       "    <tr>\n",
       "      <th>833</th>\n",
       "      <td>0</td>\n",
       "      <td>3</td>\n",
       "      <td>male</td>\n",
       "      <td>NaN</td>\n",
       "      <td>S</td>\n",
       "    </tr>\n",
       "    <tr>\n",
       "      <th>842</th>\n",
       "      <td>1</td>\n",
       "      <td>1</td>\n",
       "      <td>female</td>\n",
       "      <td>NaN</td>\n",
       "      <td>C</td>\n",
       "    </tr>\n",
       "    <tr>\n",
       "      <th>868</th>\n",
       "      <td>0</td>\n",
       "      <td>3</td>\n",
       "      <td>None</td>\n",
       "      <td>9.5000</td>\n",
       "      <td>S</td>\n",
       "    </tr>\n",
       "  </tbody>\n",
       "</table>\n",
       "</div>"
      ],
      "text/plain": [
       "     Survived  Pclass     Sex     Fare Embarked\n",
       "1           1       1  female  71.2833        C\n",
       "2           1       3  female   7.9250        S\n",
       "30          0       1    male  27.7208        C\n",
       "42          0       3    male   7.8958        C\n",
       "150         0       2    None  12.5250        S\n",
       "233         1       3    None  31.3875        S\n",
       "261         1       3    male      NaN        S\n",
       "327         1       2    None  13.0000        S\n",
       "396         0       3  female      NaN        S\n",
       "416         1       2  female      NaN        S\n",
       "476         0       2    None  21.0000        S\n",
       "765         1       1  female      NaN        S\n",
       "776         0       3    None   7.7500        Q\n",
       "833         0       3    male      NaN        S\n",
       "842         1       1  female      NaN        C\n",
       "868         0       3    None   9.5000        S"
      ]
     },
     "execution_count": 9,
     "metadata": {},
     "output_type": "execute_result"
    }
   ],
   "source": [
    "titanic_uncleaned[titanic_uncleaned['Sex'].isnull() | titanic_uncleaned['Fare'].isnull() | titanic_uncleaned.index.isin([1, 2,30, 42])][['Survived', 'Pclass', 'Sex', 'Fare', 'Embarked']]"
   ]
  },
  {
   "cell_type": "code",
   "execution_count": 10,
   "metadata": {
    "ExecuteTime": {
     "end_time": "2021-06-13T12:04:02.703188Z",
     "start_time": "2021-06-13T12:04:02.673505Z"
    }
   },
   "outputs": [],
   "source": [
    "sex_null = titanic_uncleaned['Sex'].isnull()\n",
    "fare_null = titanic_uncleaned['Fare'].isnull()"
   ]
  },
  {
   "cell_type": "code",
   "execution_count": 11,
   "metadata": {
    "ExecuteTime": {
     "end_time": "2021-06-13T12:04:02.718944Z",
     "start_time": "2021-06-13T12:04:02.706178Z"
    }
   },
   "outputs": [],
   "source": [
    "titanic_uncleaned['Sex'] = titanic_uncleaned['Sex'].fillna('male')\n",
    "titanic_uncleaned['Fare']= titanic_uncleaned['Fare'].fillna(titanic_uncleaned['Fare'].mean())"
   ]
  },
  {
   "cell_type": "code",
   "execution_count": 12,
   "metadata": {
    "ExecuteTime": {
     "end_time": "2021-06-13T12:04:02.924147Z",
     "start_time": "2021-06-13T12:04:02.722133Z"
    }
   },
   "outputs": [
    {
     "data": {
      "text/plain": [
       "RandomForestRegressor()"
      ]
     },
     "execution_count": 12,
     "metadata": {},
     "output_type": "execute_result"
    }
   ],
   "source": [
    "model = RandomForestRegressor()\n",
    "model.fit(pd.get_dummies(titanic_uncleaned[~fare_null][['Pclass', 'Sex']], 'Sex'), titanic_uncleaned[~fare_null]['Fare'])"
   ]
  },
  {
   "cell_type": "code",
   "execution_count": 13,
   "metadata": {
    "ExecuteTime": {
     "end_time": "2021-06-13T12:04:02.970930Z",
     "start_time": "2021-06-13T12:04:02.928419Z"
    }
   },
   "outputs": [],
   "source": [
    "y_pred = model.predict(pd.get_dummies(titanic_uncleaned[fare_null][['Pclass', 'Sex']], 'Sex'))"
   ]
  },
  {
   "cell_type": "code",
   "execution_count": 14,
   "metadata": {
    "ExecuteTime": {
     "end_time": "2021-06-13T12:04:03.016385Z",
     "start_time": "2021-06-13T12:04:02.978908Z"
    }
   },
   "outputs": [
    {
     "data": {
      "text/plain": [
       "array([ 12.60427982,  16.24581179,  21.76838782, 106.47318352,\n",
       "        12.60427982, 106.47318352])"
      ]
     },
     "execution_count": 14,
     "metadata": {},
     "output_type": "execute_result"
    }
   ],
   "source": [
    "y_pred"
   ]
  },
  {
   "cell_type": "code",
   "execution_count": 15,
   "metadata": {
    "ExecuteTime": {
     "end_time": "2021-06-13T12:04:03.047683Z",
     "start_time": "2021-06-13T12:04:03.019377Z"
    }
   },
   "outputs": [
    {
     "data": {
      "text/plain": [
       "261    31.3875\n",
       "396     7.8542\n",
       "416    32.5000\n",
       "765    77.9583\n",
       "833     7.8542\n",
       "842    31.0000\n",
       "Name: Fare, dtype: float64"
      ]
     },
     "execution_count": 15,
     "metadata": {},
     "output_type": "execute_result"
    }
   ],
   "source": [
    "titanic[fare_null]['Fare']"
   ]
  },
  {
   "cell_type": "code",
   "execution_count": 16,
   "metadata": {
    "ExecuteTime": {
     "end_time": "2021-06-13T12:04:03.078582Z",
     "start_time": "2021-06-13T12:04:03.051294Z"
    }
   },
   "outputs": [
    {
     "data": {
      "text/html": [
       "<div>\n",
       "<style scoped>\n",
       "    .dataframe tbody tr th:only-of-type {\n",
       "        vertical-align: middle;\n",
       "    }\n",
       "\n",
       "    .dataframe tbody tr th {\n",
       "        vertical-align: top;\n",
       "    }\n",
       "\n",
       "    .dataframe thead th {\n",
       "        text-align: right;\n",
       "    }\n",
       "</style>\n",
       "<table border=\"1\" class=\"dataframe\">\n",
       "  <thead>\n",
       "    <tr style=\"text-align: right;\">\n",
       "      <th></th>\n",
       "      <th>PassengerId</th>\n",
       "      <th>Survived</th>\n",
       "      <th>Pclass</th>\n",
       "      <th>Name</th>\n",
       "      <th>Sex</th>\n",
       "      <th>Age</th>\n",
       "      <th>SibSp</th>\n",
       "      <th>Parch</th>\n",
       "      <th>Ticket</th>\n",
       "      <th>Fare</th>\n",
       "      <th>Cabin</th>\n",
       "      <th>Embarked</th>\n",
       "    </tr>\n",
       "  </thead>\n",
       "  <tbody>\n",
       "    <tr>\n",
       "      <th>261</th>\n",
       "      <td>262</td>\n",
       "      <td>1</td>\n",
       "      <td>3</td>\n",
       "      <td>Asplund, Master. Edvin Rojj Felix</td>\n",
       "      <td>male</td>\n",
       "      <td>3.0</td>\n",
       "      <td>4</td>\n",
       "      <td>2</td>\n",
       "      <td>347077</td>\n",
       "      <td>32.209486</td>\n",
       "      <td>NaN</td>\n",
       "      <td>S</td>\n",
       "    </tr>\n",
       "    <tr>\n",
       "      <th>396</th>\n",
       "      <td>397</td>\n",
       "      <td>0</td>\n",
       "      <td>3</td>\n",
       "      <td>Olsson, Miss. Elina</td>\n",
       "      <td>female</td>\n",
       "      <td>31.0</td>\n",
       "      <td>0</td>\n",
       "      <td>0</td>\n",
       "      <td>350407</td>\n",
       "      <td>32.209486</td>\n",
       "      <td>NaN</td>\n",
       "      <td>S</td>\n",
       "    </tr>\n",
       "    <tr>\n",
       "      <th>416</th>\n",
       "      <td>417</td>\n",
       "      <td>1</td>\n",
       "      <td>2</td>\n",
       "      <td>Drew, Mrs. James Vivian (Lulu Thorne Christian)</td>\n",
       "      <td>female</td>\n",
       "      <td>34.0</td>\n",
       "      <td>1</td>\n",
       "      <td>1</td>\n",
       "      <td>28220</td>\n",
       "      <td>32.209486</td>\n",
       "      <td>NaN</td>\n",
       "      <td>S</td>\n",
       "    </tr>\n",
       "    <tr>\n",
       "      <th>765</th>\n",
       "      <td>766</td>\n",
       "      <td>1</td>\n",
       "      <td>1</td>\n",
       "      <td>Hogeboom, Mrs. John C (Anna Andrews)</td>\n",
       "      <td>female</td>\n",
       "      <td>51.0</td>\n",
       "      <td>1</td>\n",
       "      <td>0</td>\n",
       "      <td>13502</td>\n",
       "      <td>32.209486</td>\n",
       "      <td>D11</td>\n",
       "      <td>S</td>\n",
       "    </tr>\n",
       "    <tr>\n",
       "      <th>833</th>\n",
       "      <td>834</td>\n",
       "      <td>0</td>\n",
       "      <td>3</td>\n",
       "      <td>Augustsson, Mr. Albert</td>\n",
       "      <td>male</td>\n",
       "      <td>23.0</td>\n",
       "      <td>0</td>\n",
       "      <td>0</td>\n",
       "      <td>347468</td>\n",
       "      <td>32.209486</td>\n",
       "      <td>NaN</td>\n",
       "      <td>S</td>\n",
       "    </tr>\n",
       "    <tr>\n",
       "      <th>842</th>\n",
       "      <td>843</td>\n",
       "      <td>1</td>\n",
       "      <td>1</td>\n",
       "      <td>Serepeca, Miss. Augusta</td>\n",
       "      <td>female</td>\n",
       "      <td>30.0</td>\n",
       "      <td>0</td>\n",
       "      <td>0</td>\n",
       "      <td>113798</td>\n",
       "      <td>32.209486</td>\n",
       "      <td>NaN</td>\n",
       "      <td>C</td>\n",
       "    </tr>\n",
       "  </tbody>\n",
       "</table>\n",
       "</div>"
      ],
      "text/plain": [
       "     PassengerId  Survived  Pclass  \\\n",
       "261          262         1       3   \n",
       "396          397         0       3   \n",
       "416          417         1       2   \n",
       "765          766         1       1   \n",
       "833          834         0       3   \n",
       "842          843         1       1   \n",
       "\n",
       "                                                Name     Sex   Age  SibSp  \\\n",
       "261                Asplund, Master. Edvin Rojj Felix    male   3.0      4   \n",
       "396                              Olsson, Miss. Elina  female  31.0      0   \n",
       "416  Drew, Mrs. James Vivian (Lulu Thorne Christian)  female  34.0      1   \n",
       "765             Hogeboom, Mrs. John C (Anna Andrews)  female  51.0      1   \n",
       "833                           Augustsson, Mr. Albert    male  23.0      0   \n",
       "842                          Serepeca, Miss. Augusta  female  30.0      0   \n",
       "\n",
       "     Parch  Ticket       Fare Cabin Embarked  \n",
       "261      2  347077  32.209486   NaN        S  \n",
       "396      0  350407  32.209486   NaN        S  \n",
       "416      1   28220  32.209486   NaN        S  \n",
       "765      0   13502  32.209486   D11        S  \n",
       "833      0  347468  32.209486   NaN        S  \n",
       "842      0  113798  32.209486   NaN        C  "
      ]
     },
     "execution_count": 16,
     "metadata": {},
     "output_type": "execute_result"
    }
   ],
   "source": [
    "titanic_uncleaned[fare_null]"
   ]
  },
  {
   "cell_type": "code",
   "execution_count": 17,
   "metadata": {
    "ExecuteTime": {
     "end_time": "2021-06-13T12:04:03.408371Z",
     "start_time": "2021-06-13T12:04:03.081212Z"
    }
   },
   "outputs": [
    {
     "data": {
      "text/plain": [
       "array(['female', 'male', 'male', 'female', 'male', 'male'], dtype=object)"
      ]
     },
     "execution_count": 17,
     "metadata": {},
     "output_type": "execute_result"
    }
   ],
   "source": [
    "model = RandomForestClassifier()\n",
    "model.fit(titanic_uncleaned[~sex_null][['Pclass', 'Fare']], titanic_uncleaned[~sex_null]['Sex'])\n",
    "model.predict(titanic_uncleaned[sex_null][['Pclass', 'Fare']])"
   ]
  },
  {
   "cell_type": "markdown",
   "metadata": {},
   "source": [
    "# Messed-up data\n",
    "\n",
    "## Text cleaning"
   ]
  },
  {
   "cell_type": "code",
   "execution_count": 60,
   "metadata": {
    "ExecuteTime": {
     "end_time": "2021-06-13T12:06:04.431606Z",
     "start_time": "2021-06-13T12:06:04.422631Z"
    }
   },
   "outputs": [],
   "source": [
    "uncleaned_name = 'uncleaned'"
   ]
  },
  {
   "cell_type": "code",
   "execution_count": 61,
   "metadata": {
    "ExecuteTime": {
     "end_time": "2021-06-13T12:06:04.837372Z",
     "start_time": "2021-06-13T12:06:04.439580Z"
    }
   },
   "outputs": [],
   "source": [
    "titanic[uncleaned_name] = titanic['Sex']"
   ]
  },
  {
   "cell_type": "code",
   "execution_count": 62,
   "metadata": {
    "ExecuteTime": {
     "end_time": "2021-06-13T12:06:04.869318Z",
     "start_time": "2021-06-13T12:06:04.846936Z"
    }
   },
   "outputs": [],
   "source": [
    "messing_up_dict = {\n",
    "    'female': ['kobieta', 'mujer', 'kobiet', 'dziewczyna', 'femme', 'femalle'],\n",
    "    'male': ['facet',  'Mr.', 'monsieur', 'm ale', 'mle', 'man'],\n",
    "}"
   ]
  },
  {
   "cell_type": "code",
   "execution_count": 63,
   "metadata": {
    "ExecuteTime": {
     "end_time": "2021-06-13T12:06:04.994980Z",
     "start_time": "2021-06-13T12:06:04.878292Z"
    }
   },
   "outputs": [],
   "source": [
    "for k, v in messing_up_dict.items():\n",
    "    sampled_indexes = titanic[titanic['Sex']==k].sample(frac=0.2).index\n",
    "    for i in sampled_indexes:\n",
    "        titanic.loc[i, uncleaned_name] = np.random.choice(v)"
   ]
  },
  {
   "cell_type": "code",
   "execution_count": 64,
   "metadata": {
    "ExecuteTime": {
     "end_time": "2021-06-13T12:06:05.010949Z",
     "start_time": "2021-06-13T12:06:04.996974Z"
    }
   },
   "outputs": [
    {
     "data": {
      "text/plain": [
       "male          462\n",
       "female        251\n",
       "facet          24\n",
       "man            21\n",
       "mle            19\n",
       "Mr.            18\n",
       "m ale          18\n",
       "femalle        16\n",
       "femme          15\n",
       "monsieur       15\n",
       "mujer          12\n",
       "kobieta         9\n",
       "dziewczyna      7\n",
       "kobiet          4\n",
       "Name: uncleaned, dtype: int64"
      ]
     },
     "execution_count": 64,
     "metadata": {},
     "output_type": "execute_result"
    }
   ],
   "source": [
    "titanic[uncleaned_name].value_counts()"
   ]
  },
  {
   "cell_type": "code",
   "execution_count": 65,
   "metadata": {
    "ExecuteTime": {
     "end_time": "2021-06-13T12:06:05.025898Z",
     "start_time": "2021-06-13T12:06:05.014927Z"
    }
   },
   "outputs": [],
   "source": [
    "uncleaned = titanic.groupby(uncleaned_name).agg({'PassengerId': 'count'}).reset_index()"
   ]
  },
  {
   "cell_type": "code",
   "execution_count": 66,
   "metadata": {
    "ExecuteTime": {
     "end_time": "2021-06-13T12:06:05.041923Z",
     "start_time": "2021-06-13T12:06:05.029886Z"
    }
   },
   "outputs": [],
   "source": [
    "# introduce mess in the data\n",
    "sex = uncleaned[uncleaned_name]"
   ]
  },
  {
   "cell_type": "code",
   "execution_count": 67,
   "metadata": {
    "ExecuteTime": {
     "end_time": "2021-06-13T12:06:09.022100Z",
     "start_time": "2021-06-13T12:06:05.046085Z"
    }
   },
   "outputs": [],
   "source": [
    "# pretrained model for multi language problems\n",
    "sbert_model = SentenceTransformer('distiluse-base-multilingual-cased')\n",
    "sentence_embeddings = sbert_model.encode(sex)"
   ]
  },
  {
   "cell_type": "code",
   "execution_count": 68,
   "metadata": {
    "ExecuteTime": {
     "end_time": "2021-06-13T12:06:12.900597Z",
     "start_time": "2021-06-13T12:06:09.024973Z"
    }
   },
   "outputs": [
    {
     "name": "stderr",
     "output_type": "stream",
     "text": [
      "c:\\users\\marta\\appdata\\local\\programs\\python\\python38\\lib\\site-packages\\umap\\umap_.py:1678: UserWarning: n_neighbors is larger than the dataset size; truncating to X.shape[0] - 1\n",
      "  warn(\n"
     ]
    }
   ],
   "source": [
    "# business knowledge about number of instances in a group\n",
    "reducer = umap.UMAP(n_components=1)\n",
    "umap_comp = reducer.fit_transform(pd.DataFrame(sentence_embeddings))"
   ]
  },
  {
   "cell_type": "code",
   "execution_count": 69,
   "metadata": {
    "ExecuteTime": {
     "end_time": "2021-06-13T12:06:12.924756Z",
     "start_time": "2021-06-13T12:06:12.904774Z"
    }
   },
   "outputs": [],
   "source": [
    "# business knowledge about number of instances in a group\n",
    "pca = PCA(n_components=1)\n",
    "pca_comp = pca.fit_transform(pd.DataFrame(sentence_embeddings))"
   ]
  },
  {
   "cell_type": "code",
   "execution_count": 70,
   "metadata": {
    "ExecuteTime": {
     "end_time": "2021-06-13T12:06:12.956362Z",
     "start_time": "2021-06-13T12:06:12.928406Z"
    }
   },
   "outputs": [],
   "source": [
    "# mapping to new vectors\n",
    "titanic_ext = titanic.merge(pd.DataFrame({\n",
    "    uncleaned_name: sex, \n",
    "    'pca': [el[0] for el in pca_comp], \n",
    "    'umap': [el[0] for el in umap_comp]\n",
    "}))"
   ]
  },
  {
   "cell_type": "code",
   "execution_count": 71,
   "metadata": {
    "ExecuteTime": {
     "end_time": "2021-06-13T12:06:12.987250Z",
     "start_time": "2021-06-13T12:06:12.961318Z"
    }
   },
   "outputs": [
    {
     "data": {
      "text/html": [
       "<div>\n",
       "<style scoped>\n",
       "    .dataframe tbody tr th:only-of-type {\n",
       "        vertical-align: middle;\n",
       "    }\n",
       "\n",
       "    .dataframe tbody tr th {\n",
       "        vertical-align: top;\n",
       "    }\n",
       "\n",
       "    .dataframe thead th {\n",
       "        text-align: right;\n",
       "    }\n",
       "</style>\n",
       "<table border=\"1\" class=\"dataframe\">\n",
       "  <thead>\n",
       "    <tr style=\"text-align: right;\">\n",
       "      <th></th>\n",
       "      <th>pca</th>\n",
       "    </tr>\n",
       "    <tr>\n",
       "      <th>Sex</th>\n",
       "      <th></th>\n",
       "    </tr>\n",
       "  </thead>\n",
       "  <tbody>\n",
       "    <tr>\n",
       "      <th>female</th>\n",
       "      <td>0.363260</td>\n",
       "    </tr>\n",
       "    <tr>\n",
       "      <th>male</th>\n",
       "      <td>-0.256373</td>\n",
       "    </tr>\n",
       "  </tbody>\n",
       "</table>\n",
       "</div>"
      ],
      "text/plain": [
       "             pca\n",
       "Sex             \n",
       "female  0.363260\n",
       "male   -0.256373"
      ]
     },
     "execution_count": 71,
     "metadata": {},
     "output_type": "execute_result"
    }
   ],
   "source": [
    "# sanity check\n",
    "titanic_ext.groupby('Sex').agg({'pca': 'mean'})"
   ]
  },
  {
   "cell_type": "code",
   "execution_count": 72,
   "metadata": {
    "ExecuteTime": {
     "end_time": "2021-06-13T12:06:13.003228Z",
     "start_time": "2021-06-13T12:06:12.990241Z"
    }
   },
   "outputs": [],
   "source": [
    "cv = StratifiedKFold(n_splits=5, shuffle=True, random_state=0)"
   ]
  },
  {
   "cell_type": "code",
   "execution_count": 73,
   "metadata": {
    "ExecuteTime": {
     "end_time": "2021-06-13T12:06:13.021158Z",
     "start_time": "2021-06-13T12:06:13.006198Z"
    }
   },
   "outputs": [],
   "source": [
    "rf = RandomForestClassifier(random_state=30)"
   ]
  },
  {
   "cell_type": "code",
   "execution_count": 74,
   "metadata": {
    "ExecuteTime": {
     "end_time": "2021-06-13T12:06:13.050332Z",
     "start_time": "2021-06-13T12:06:13.029366Z"
    }
   },
   "outputs": [],
   "source": [
    "y = titanic_ext['Survived']"
   ]
  },
  {
   "cell_type": "code",
   "execution_count": 75,
   "metadata": {
    "ExecuteTime": {
     "end_time": "2021-06-13T12:06:13.065561Z",
     "start_time": "2021-06-13T12:06:13.053539Z"
    }
   },
   "outputs": [],
   "source": [
    "#titanic_ext[['Sex', 'clusters']].groupby('Sex').agg(['min', 'mean', 'max'])"
   ]
  },
  {
   "cell_type": "code",
   "execution_count": 76,
   "metadata": {
    "ExecuteTime": {
     "end_time": "2021-06-13T12:06:19.269429Z",
     "start_time": "2021-06-13T12:06:13.070487Z"
    }
   },
   "outputs": [],
   "source": [
    "full_sentence_embeddings = sbert_model.encode(titanic_ext['uncleaned'])"
   ]
  },
  {
   "cell_type": "code",
   "execution_count": 77,
   "metadata": {
    "ExecuteTime": {
     "end_time": "2021-06-13T12:06:19.470821Z",
     "start_time": "2021-06-13T12:06:19.272423Z"
    }
   },
   "outputs": [],
   "source": [
    "kmeans = KMeans(n_clusters=2, random_state=0).fit(pd.DataFrame(full_sentence_embeddings))"
   ]
  },
  {
   "cell_type": "code",
   "execution_count": 78,
   "metadata": {
    "ExecuteTime": {
     "end_time": "2021-06-13T12:06:19.501046Z",
     "start_time": "2021-06-13T12:06:19.478916Z"
    }
   },
   "outputs": [],
   "source": [
    "titanic_ext['clusters'] = kmeans.labels_"
   ]
  },
  {
   "cell_type": "code",
   "execution_count": 79,
   "metadata": {
    "ExecuteTime": {
     "end_time": "2021-06-13T12:06:19.563999Z",
     "start_time": "2021-06-13T12:06:19.507400Z"
    }
   },
   "outputs": [],
   "source": [
    "kmeans = KMeans(n_clusters=2, random_state=0).fit(titanic_ext[['umap']])\n",
    "titanic_ext['clusters_umap'] = kmeans.labels_"
   ]
  },
  {
   "cell_type": "code",
   "execution_count": 80,
   "metadata": {
    "ExecuteTime": {
     "end_time": "2021-06-13T12:06:19.610538Z",
     "start_time": "2021-06-13T12:06:19.566924Z"
    }
   },
   "outputs": [],
   "source": [
    "kmeans = KMeans(n_clusters=2, random_state=0).fit(titanic_ext[['pca']])\n",
    "titanic_ext['clusters_pca'] = kmeans.labels_"
   ]
  },
  {
   "cell_type": "code",
   "execution_count": 81,
   "metadata": {
    "ExecuteTime": {
     "end_time": "2021-06-13T12:06:19.657362Z",
     "start_time": "2021-06-13T12:06:19.613398Z"
    }
   },
   "outputs": [
    {
     "data": {
      "text/html": [
       "<div>\n",
       "<style scoped>\n",
       "    .dataframe tbody tr th:only-of-type {\n",
       "        vertical-align: middle;\n",
       "    }\n",
       "\n",
       "    .dataframe tbody tr th {\n",
       "        vertical-align: top;\n",
       "    }\n",
       "\n",
       "    .dataframe thead th {\n",
       "        text-align: right;\n",
       "    }\n",
       "</style>\n",
       "<table border=\"1\" class=\"dataframe\">\n",
       "  <thead>\n",
       "    <tr style=\"text-align: right;\">\n",
       "      <th>clusters</th>\n",
       "      <th>0</th>\n",
       "      <th>1</th>\n",
       "    </tr>\n",
       "    <tr>\n",
       "      <th>Sex</th>\n",
       "      <th></th>\n",
       "      <th></th>\n",
       "    </tr>\n",
       "  </thead>\n",
       "  <tbody>\n",
       "    <tr>\n",
       "      <th>female</th>\n",
       "      <td>314</td>\n",
       "      <td>0</td>\n",
       "    </tr>\n",
       "    <tr>\n",
       "      <th>male</th>\n",
       "      <td>0</td>\n",
       "      <td>577</td>\n",
       "    </tr>\n",
       "  </tbody>\n",
       "</table>\n",
       "</div>"
      ],
      "text/plain": [
       "clusters    0    1\n",
       "Sex               \n",
       "female    314    0\n",
       "male        0  577"
      ]
     },
     "execution_count": 81,
     "metadata": {},
     "output_type": "execute_result"
    }
   ],
   "source": [
    "pd.crosstab(titanic_ext['Sex'], titanic_ext['clusters'])"
   ]
  },
  {
   "cell_type": "code",
   "execution_count": 82,
   "metadata": {
    "ExecuteTime": {
     "end_time": "2021-06-13T12:06:19.673047Z",
     "start_time": "2021-06-13T12:06:19.660377Z"
    }
   },
   "outputs": [],
   "source": [
    "#titanic_ext[ (titanic_ext['pca']>0) & (titanic_ext['Sex']=='female')]"
   ]
  },
  {
   "cell_type": "code",
   "execution_count": 83,
   "metadata": {
    "ExecuteTime": {
     "end_time": "2021-06-13T12:06:21.363122Z",
     "start_time": "2021-06-13T12:06:19.676385Z"
    }
   },
   "outputs": [
    {
     "data": {
      "text/plain": [
       "0.786761659657272"
      ]
     },
     "execution_count": 83,
     "metadata": {},
     "output_type": "execute_result"
    }
   ],
   "source": [
    "X_dummy = pd.get_dummies(titanic_ext[['Sex']], drop_first=True)\n",
    "rf.fit(X_dummy, y)\n",
    "y_pred_dummy = rf.predict(X_dummy)\n",
    "cross_val_score(rf, X_dummy, y, cv=cv).mean()"
   ]
  },
  {
   "cell_type": "code",
   "execution_count": 84,
   "metadata": {
    "ExecuteTime": {
     "end_time": "2021-06-13T12:06:22.789443Z",
     "start_time": "2021-06-13T12:06:21.365604Z"
    }
   },
   "outputs": [
    {
     "data": {
      "text/plain": [
       "0.784514468646036"
      ]
     },
     "execution_count": 84,
     "metadata": {},
     "output_type": "execute_result"
    }
   ],
   "source": [
    "X_pca = titanic_ext[['pca']]\n",
    "rf.fit(X_pca, y)\n",
    "y_pred_pca = rf.predict(X_pca)\n",
    "cross_val_score(rf, X_pca, y, cv=cv).mean()"
   ]
  },
  {
   "cell_type": "code",
   "execution_count": 85,
   "metadata": {
    "ExecuteTime": {
     "end_time": "2021-06-13T12:06:24.362791Z",
     "start_time": "2021-06-13T12:06:22.792431Z"
    }
   },
   "outputs": [
    {
     "data": {
      "text/plain": [
       "0.786761659657272"
      ]
     },
     "execution_count": 85,
     "metadata": {},
     "output_type": "execute_result"
    }
   ],
   "source": [
    "X_clusters = titanic_ext[['clusters']]\n",
    "rf.fit(X_clusters, y)\n",
    "y_pred_clusters = rf.predict(X_clusters)\n",
    "cross_val_score(rf, X_clusters, y, cv=cv).mean()"
   ]
  },
  {
   "cell_type": "code",
   "execution_count": 86,
   "metadata": {
    "ExecuteTime": {
     "end_time": "2021-06-13T12:06:25.774573Z",
     "start_time": "2021-06-13T12:06:24.364785Z"
    }
   },
   "outputs": [
    {
     "data": {
      "text/plain": [
       "0.786761659657272"
      ]
     },
     "execution_count": 86,
     "metadata": {},
     "output_type": "execute_result"
    }
   ],
   "source": [
    "X_umap = titanic_ext[['umap']]\n",
    "rf.fit(X_umap, y)\n",
    "y_pred_umap = rf.predict(X_umap)\n",
    "cross_val_score(rf, X_umap, y, cv=cv).mean()"
   ]
  },
  {
   "cell_type": "code",
   "execution_count": 87,
   "metadata": {
    "ExecuteTime": {
     "end_time": "2021-06-13T12:06:25.805294Z",
     "start_time": "2021-06-13T12:06:25.776534Z"
    }
   },
   "outputs": [
    {
     "data": {
      "text/html": [
       "<div>\n",
       "<style scoped>\n",
       "    .dataframe tbody tr th:only-of-type {\n",
       "        vertical-align: middle;\n",
       "    }\n",
       "\n",
       "    .dataframe tbody tr th {\n",
       "        vertical-align: top;\n",
       "    }\n",
       "\n",
       "    .dataframe thead th {\n",
       "        text-align: right;\n",
       "    }\n",
       "</style>\n",
       "<table border=\"1\" class=\"dataframe\">\n",
       "  <thead>\n",
       "    <tr style=\"text-align: right;\">\n",
       "      <th></th>\n",
       "      <th>PassengerId</th>\n",
       "      <th>Survived</th>\n",
       "      <th>Pclass</th>\n",
       "      <th>Name</th>\n",
       "      <th>Sex</th>\n",
       "      <th>Age</th>\n",
       "      <th>SibSp</th>\n",
       "      <th>Parch</th>\n",
       "      <th>Ticket</th>\n",
       "      <th>Fare</th>\n",
       "      <th>Cabin</th>\n",
       "      <th>Embarked</th>\n",
       "      <th>uncleaned</th>\n",
       "      <th>pca</th>\n",
       "      <th>umap</th>\n",
       "      <th>clusters</th>\n",
       "      <th>clusters_umap</th>\n",
       "      <th>clusters_pca</th>\n",
       "      <th>pred_dummy</th>\n",
       "      <th>pred_pca</th>\n",
       "    </tr>\n",
       "  </thead>\n",
       "  <tbody>\n",
       "  </tbody>\n",
       "</table>\n",
       "</div>"
      ],
      "text/plain": [
       "Empty DataFrame\n",
       "Columns: [PassengerId, Survived, Pclass, Name, Sex, Age, SibSp, Parch, Ticket, Fare, Cabin, Embarked, uncleaned, pca, umap, clusters, clusters_umap, clusters_pca, pred_dummy, pred_pca]\n",
       "Index: []"
      ]
     },
     "execution_count": 87,
     "metadata": {},
     "output_type": "execute_result"
    }
   ],
   "source": [
    "results = titanic_ext.copy()\n",
    "results['pred_dummy'] = y_pred_dummy\n",
    "results['pred_pca'] = y_pred_pca\n",
    "results[y_pred_dummy!=y_pred_pca]"
   ]
  },
  {
   "cell_type": "code",
   "execution_count": 88,
   "metadata": {
    "ExecuteTime": {
     "end_time": "2021-06-13T12:06:26.165783Z",
     "start_time": "2021-06-13T12:06:25.810236Z"
    }
   },
   "outputs": [
    {
     "data": {
      "text/plain": [
       "<AxesSubplot:ylabel='Density'>"
      ]
     },
     "execution_count": 88,
     "metadata": {},
     "output_type": "execute_result"
    },
    {
     "data": {
      "image/png": "[encoded data removed]",
      "text/plain": [
       "<Figure size 432x288 with 1 Axes>"
      ]
     },
     "metadata": {
      "needs_background": "light"
     },
     "output_type": "display_data"
    }
   ],
   "source": [
    "results[['umap', 'clusters_umap']].pivot(columns='clusters_umap').plot.kde(bw_method=1)"
   ]
  },
  {
   "cell_type": "code",
   "execution_count": 89,
   "metadata": {
    "ExecuteTime": {
     "end_time": "2021-06-13T12:06:26.558030Z",
     "start_time": "2021-06-13T12:06:26.168747Z"
    }
   },
   "outputs": [
    {
     "data": {
      "image/png": "[encoded data removed]",
      "text/plain": [
       "<Figure size 432x288 with 1 Axes>"
      ]
     },
     "metadata": {
      "needs_background": "light"
     },
     "output_type": "display_data"
    }
   ],
   "source": [
    "#ax = results['pca'].plot.density(title='PCA density')\n",
    "ax = results[['pca', 'clusters_pca']].pivot(columns='clusters_pca').plot.kde(bw_method=1, title='PCA density')\n",
    "#results['pca'][results['clusters']==0].plot.density(ax=ax)\n",
    "ax.get_legend().remove()\n",
    "ax.spines['top'].set_visible(False)\n",
    "ax.spines['right'].set_visible(False)\n",
    "fig = ax.get_figure()\n",
    "fig.savefig('density_pca.png')"
   ]
  },
  {
   "cell_type": "code",
   "execution_count": 90,
   "metadata": {
    "ExecuteTime": {
     "end_time": "2021-06-13T12:06:26.918325Z",
     "start_time": "2021-06-13T12:06:26.561023Z"
    }
   },
   "outputs": [
    {
     "data": {
      "image/png": "[encoded data removed]",
      "text/plain": [
       "<Figure size 432x288 with 1 Axes>"
      ]
     },
     "metadata": {
      "needs_background": "light"
     },
     "output_type": "display_data"
    }
   ],
   "source": [
    "#ax = results['pca'].plot.density(title='PCA density')\n",
    "ax = results[['umap', 'clusters_umap']].pivot(columns='clusters_umap').plot.kde(bw_method=1, title='UMAP density')\n",
    "#results['pca'][results['clusters']==0].plot.density(ax=ax)\n",
    "ax.get_legend().remove()\n",
    "ax.spines['top'].set_visible(False)\n",
    "ax.spines['right'].set_visible(False)\n",
    "fig = ax.get_figure()\n",
    "fig.savefig('density_umap.png')"
   ]
  },
  {
   "cell_type": "code",
   "execution_count": 91,
   "metadata": {
    "ExecuteTime": {
     "end_time": "2021-06-13T12:06:31.785857Z",
     "start_time": "2021-06-13T12:06:26.922194Z"
    }
   },
   "outputs": [],
   "source": [
    "results = pd.DataFrame({\n",
    "    'original': cross_val_score(rf, X_dummy, y, cv=cv),\n",
    "    'pca': cross_val_score(rf, X_pca, y, cv=cv),\n",
    "    'umap': cross_val_score(rf, X_umap, y, cv=cv),\n",
    "    'clustering': cross_val_score(rf, X_clusters, y, cv=cv),\n",
    "    'folds': range(1, 6)\n",
    "})"
   ]
  },
  {
   "cell_type": "code",
   "execution_count": 92,
   "metadata": {
    "ExecuteTime": {
     "end_time": "2021-06-13T12:06:32.304541Z",
     "start_time": "2021-06-13T12:06:31.788587Z"
    }
   },
   "outputs": [
    {
     "data": {
      "image/png": "[encoded data removed]",
      "text/plain": [
       "<Figure size 432x288 with 1 Axes>"
      ]
     },
     "metadata": {
      "needs_background": "light"
     },
     "output_type": "display_data"
    }
   ],
   "source": [
    "ax = results.plot(x='folds', y='original', c='black', lw=1, title='Comparing performance')\n",
    "results.plot(x='folds', y='umap', lw=4, style=\"k--\", ax=ax, c='darkblue', alpha=0.5)\n",
    "results.plot(x='folds', y='pca', lw=2, ax=ax, style=\"o\", c='orange')\n",
    "#ax.get_legend().remove()\n",
    "ax.spines['top'].set_visible(False)\n",
    "ax.spines['right'].set_visible(False)\n",
    "fig = ax.get_figure()\n",
    "fig.savefig('results_umap.png')"
   ]
  },
  {
   "cell_type": "code",
   "execution_count": 93,
   "metadata": {
    "ExecuteTime": {
     "end_time": "2021-06-13T12:06:32.903583Z",
     "start_time": "2021-06-13T12:06:32.308499Z"
    }
   },
   "outputs": [
    {
     "data": {
      "image/png": "[encoded data removed]",
      "text/plain": [
       "<Figure size 432x288 with 1 Axes>"
      ]
     },
     "metadata": {
      "needs_background": "light"
     },
     "output_type": "display_data"
    }
   ],
   "source": [
    "ax = results.plot(x='folds', y='original', c='black', lw=1, title='Comparing performance')\n",
    "results.plot(x='folds', y='pca', lw=4, style=\"k--\", ax=ax, c='darkblue', alpha=0.5)\n",
    "results.plot(x='folds', y='clustering', lw=2, ax=ax, style=\"o\", c='orange')\n",
    "#ax.get_legend().remove()\n",
    "ax.spines['top'].set_visible(False)\n",
    "ax.spines['right'].set_visible(False)\n",
    "fig = ax.get_figure()\n",
    "fig.savefig('results.png')"
   ]
  },
  {
   "cell_type": "markdown",
   "metadata": {},
   "source": [
    "## Categories cleaning"
   ]
  },
  {
   "cell_type": "code",
   "execution_count": 94,
   "metadata": {
    "ExecuteTime": {
     "end_time": "2021-06-13T12:06:32.934994Z",
     "start_time": "2021-06-13T12:06:32.908610Z"
    }
   },
   "outputs": [],
   "source": [
    "cat_dict = {\n",
    "    'house': ['bungalow', 'semi-detached house', 'sem-detached house', 'log-house', 'cottage', 'bus', 'short-sleeved'],\n",
    "    'vehicle': ['motorcoach', 'motorcycle', 'car', 'truck', 'lorry', 'lory', 'caravan', 'minivan', 'two-storey hous', 'calf-length'],\n",
    "}"
   ]
  },
  {
   "cell_type": "code",
   "execution_count": 95,
   "metadata": {
    "ExecuteTime": {
     "end_time": "2021-06-13T12:06:32.966991Z",
     "start_time": "2021-06-13T12:06:32.942335Z"
    }
   },
   "outputs": [],
   "source": [
    "data = pd.DataFrame({\n",
    "    'category': ['vehicle']*200 + ['house']*200,\n",
    "    'subcategory': np.concatenate([np.random.choice(np.array(cat_dict['vehicle']), size=200), np.random.choice(np.array(cat_dict['house']), size=200)], axis=0),\n",
    "    'count': 1,\n",
    "})"
   ]
  },
  {
   "cell_type": "code",
   "execution_count": 96,
   "metadata": {
    "ExecuteTime": {
     "end_time": "2021-06-13T12:06:33.014173Z",
     "start_time": "2021-06-13T12:06:32.973309Z"
    }
   },
   "outputs": [
    {
     "data": {
      "text/html": [
       "<div>\n",
       "<style scoped>\n",
       "    .dataframe tbody tr th:only-of-type {\n",
       "        vertical-align: middle;\n",
       "    }\n",
       "\n",
       "    .dataframe tbody tr th {\n",
       "        vertical-align: top;\n",
       "    }\n",
       "\n",
       "    .dataframe thead th {\n",
       "        text-align: right;\n",
       "    }\n",
       "</style>\n",
       "<table border=\"1\" class=\"dataframe\">\n",
       "  <thead>\n",
       "    <tr style=\"text-align: right;\">\n",
       "      <th></th>\n",
       "      <th></th>\n",
       "      <th>count</th>\n",
       "    </tr>\n",
       "    <tr>\n",
       "      <th>category</th>\n",
       "      <th>subcategory</th>\n",
       "      <th></th>\n",
       "    </tr>\n",
       "  </thead>\n",
       "  <tbody>\n",
       "    <tr>\n",
       "      <th rowspan=\"7\" valign=\"top\">house</th>\n",
       "      <th>bungalow</th>\n",
       "      <td>28</td>\n",
       "    </tr>\n",
       "    <tr>\n",
       "      <th>bus</th>\n",
       "      <td>30</td>\n",
       "    </tr>\n",
       "    <tr>\n",
       "      <th>cottage</th>\n",
       "      <td>20</td>\n",
       "    </tr>\n",
       "    <tr>\n",
       "      <th>log-house</th>\n",
       "      <td>23</td>\n",
       "    </tr>\n",
       "    <tr>\n",
       "      <th>sem-detached house</th>\n",
       "      <td>32</td>\n",
       "    </tr>\n",
       "    <tr>\n",
       "      <th>semi-detached house</th>\n",
       "      <td>28</td>\n",
       "    </tr>\n",
       "    <tr>\n",
       "      <th>short-sleeved</th>\n",
       "      <td>39</td>\n",
       "    </tr>\n",
       "    <tr>\n",
       "      <th rowspan=\"10\" valign=\"top\">vehicle</th>\n",
       "      <th>calf-length</th>\n",
       "      <td>18</td>\n",
       "    </tr>\n",
       "    <tr>\n",
       "      <th>car</th>\n",
       "      <td>21</td>\n",
       "    </tr>\n",
       "    <tr>\n",
       "      <th>caravan</th>\n",
       "      <td>19</td>\n",
       "    </tr>\n",
       "    <tr>\n",
       "      <th>lorry</th>\n",
       "      <td>21</td>\n",
       "    </tr>\n",
       "    <tr>\n",
       "      <th>lory</th>\n",
       "      <td>21</td>\n",
       "    </tr>\n",
       "    <tr>\n",
       "      <th>minivan</th>\n",
       "      <td>21</td>\n",
       "    </tr>\n",
       "    <tr>\n",
       "      <th>motorcoach</th>\n",
       "      <td>25</td>\n",
       "    </tr>\n",
       "    <tr>\n",
       "      <th>motorcycle</th>\n",
       "      <td>14</td>\n",
       "    </tr>\n",
       "    <tr>\n",
       "      <th>truck</th>\n",
       "      <td>14</td>\n",
       "    </tr>\n",
       "    <tr>\n",
       "      <th>two-storey hous</th>\n",
       "      <td>26</td>\n",
       "    </tr>\n",
       "  </tbody>\n",
       "</table>\n",
       "</div>"
      ],
      "text/plain": [
       "                              count\n",
       "category subcategory               \n",
       "house    bungalow                28\n",
       "         bus                     30\n",
       "         cottage                 20\n",
       "         log-house               23\n",
       "         sem-detached house      32\n",
       "         semi-detached house     28\n",
       "         short-sleeved           39\n",
       "vehicle  calf-length             18\n",
       "         car                     21\n",
       "         caravan                 19\n",
       "         lorry                   21\n",
       "         lory                    21\n",
       "         minivan                 21\n",
       "         motorcoach              25\n",
       "         motorcycle              14\n",
       "         truck                   14\n",
       "         two-storey hous         26"
      ]
     },
     "execution_count": 96,
     "metadata": {},
     "output_type": "execute_result"
    }
   ],
   "source": [
    "data.groupby(['category', 'subcategory']).count()"
   ]
  },
  {
   "cell_type": "code",
   "execution_count": 97,
   "metadata": {
    "ExecuteTime": {
     "end_time": "2021-06-13T12:06:39.517980Z",
     "start_time": "2021-06-13T12:06:33.021760Z"
    }
   },
   "outputs": [],
   "source": [
    "category_encoded = sbert_model.encode(data['category'])\n",
    "subcategory_encoded = sbert_model.encode(data['subcategory'])"
   ]
  },
  {
   "cell_type": "code",
   "execution_count": 98,
   "metadata": {
    "ExecuteTime": {
     "end_time": "2021-06-13T12:06:39.751267Z",
     "start_time": "2021-06-13T12:06:39.523053Z"
    }
   },
   "outputs": [],
   "source": [
    "data['similarities'] = [cosine_similarity([category_encoded[i]], [subcategory_encoded[i]])[0][0] for i in range(data.shape[0])]"
   ]
  },
  {
   "cell_type": "code",
   "execution_count": 99,
   "metadata": {
    "ExecuteTime": {
     "end_time": "2021-06-13T12:06:40.256372Z",
     "start_time": "2021-06-13T12:06:39.753191Z"
    }
   },
   "outputs": [
    {
     "data": {
      "image/png": "[encoded data removed]",
      "text/plain": [
       "<Figure size 432x288 with 1 Axes>"
      ]
     },
     "metadata": {
      "needs_background": "light"
     },
     "output_type": "display_data"
    }
   ],
   "source": [
    "ax = data['similarities'].plot.kde(bw_method=0.3, title='Similarity density')\n",
    "ax.spines['top'].set_visible(False)\n",
    "ax.spines['right'].set_visible(False)\n",
    "fig = ax.get_figure()\n",
    "fig.savefig('similarity_density.png')"
   ]
  },
  {
   "cell_type": "code",
   "execution_count": 100,
   "metadata": {
    "ExecuteTime": {
     "end_time": "2021-06-13T12:06:40.287249Z",
     "start_time": "2021-06-13T12:06:40.260362Z"
    }
   },
   "outputs": [],
   "source": [
    "data.groupby(['category', 'subcategory']).agg({'similarities': 'mean', 'count': 'sum'}).reset_index().to_csv('similarities.csv')"
   ]
  },
  {
   "cell_type": "code",
   "execution_count": 101,
   "metadata": {
    "ExecuteTime": {
     "end_time": "2021-06-13T12:06:40.333853Z",
     "start_time": "2021-06-13T12:06:40.290241Z"
    }
   },
   "outputs": [
    {
     "data": {
      "text/html": [
       "<div>\n",
       "<style scoped>\n",
       "    .dataframe tbody tr th:only-of-type {\n",
       "        vertical-align: middle;\n",
       "    }\n",
       "\n",
       "    .dataframe tbody tr th {\n",
       "        vertical-align: top;\n",
       "    }\n",
       "\n",
       "    .dataframe thead th {\n",
       "        text-align: right;\n",
       "    }\n",
       "</style>\n",
       "<table border=\"1\" class=\"dataframe\">\n",
       "  <thead>\n",
       "    <tr style=\"text-align: right;\">\n",
       "      <th></th>\n",
       "      <th>category</th>\n",
       "      <th>subcategory</th>\n",
       "      <th>similarities</th>\n",
       "      <th>count</th>\n",
       "    </tr>\n",
       "  </thead>\n",
       "  <tbody>\n",
       "    <tr>\n",
       "      <th>16</th>\n",
       "      <td>vehicle</td>\n",
       "      <td>two-storey hous</td>\n",
       "      <td>0.204250</td>\n",
       "      <td>26</td>\n",
       "    </tr>\n",
       "    <tr>\n",
       "      <th>6</th>\n",
       "      <td>house</td>\n",
       "      <td>short-sleeved</td>\n",
       "      <td>0.260327</td>\n",
       "      <td>39</td>\n",
       "    </tr>\n",
       "    <tr>\n",
       "      <th>7</th>\n",
       "      <td>vehicle</td>\n",
       "      <td>calf-length</td>\n",
       "      <td>0.264653</td>\n",
       "      <td>18</td>\n",
       "    </tr>\n",
       "    <tr>\n",
       "      <th>1</th>\n",
       "      <td>house</td>\n",
       "      <td>bus</td>\n",
       "      <td>0.450055</td>\n",
       "      <td>30</td>\n",
       "    </tr>\n",
       "    <tr>\n",
       "      <th>9</th>\n",
       "      <td>vehicle</td>\n",
       "      <td>caravan</td>\n",
       "      <td>0.553825</td>\n",
       "      <td>19</td>\n",
       "    </tr>\n",
       "    <tr>\n",
       "      <th>0</th>\n",
       "      <td>house</td>\n",
       "      <td>bungalow</td>\n",
       "      <td>0.562262</td>\n",
       "      <td>28</td>\n",
       "    </tr>\n",
       "    <tr>\n",
       "      <th>5</th>\n",
       "      <td>house</td>\n",
       "      <td>semi-detached house</td>\n",
       "      <td>0.611057</td>\n",
       "      <td>28</td>\n",
       "    </tr>\n",
       "    <tr>\n",
       "      <th>14</th>\n",
       "      <td>vehicle</td>\n",
       "      <td>motorcycle</td>\n",
       "      <td>0.626619</td>\n",
       "      <td>14</td>\n",
       "    </tr>\n",
       "    <tr>\n",
       "      <th>13</th>\n",
       "      <td>vehicle</td>\n",
       "      <td>motorcoach</td>\n",
       "      <td>0.658846</td>\n",
       "      <td>25</td>\n",
       "    </tr>\n",
       "    <tr>\n",
       "      <th>11</th>\n",
       "      <td>vehicle</td>\n",
       "      <td>lory</td>\n",
       "      <td>0.695402</td>\n",
       "      <td>21</td>\n",
       "    </tr>\n",
       "    <tr>\n",
       "      <th>3</th>\n",
       "      <td>house</td>\n",
       "      <td>log-house</td>\n",
       "      <td>0.700266</td>\n",
       "      <td>23</td>\n",
       "    </tr>\n",
       "    <tr>\n",
       "      <th>4</th>\n",
       "      <td>house</td>\n",
       "      <td>sem-detached house</td>\n",
       "      <td>0.710890</td>\n",
       "      <td>32</td>\n",
       "    </tr>\n",
       "    <tr>\n",
       "      <th>10</th>\n",
       "      <td>vehicle</td>\n",
       "      <td>lorry</td>\n",
       "      <td>0.729326</td>\n",
       "      <td>21</td>\n",
       "    </tr>\n",
       "    <tr>\n",
       "      <th>15</th>\n",
       "      <td>vehicle</td>\n",
       "      <td>truck</td>\n",
       "      <td>0.731364</td>\n",
       "      <td>14</td>\n",
       "    </tr>\n",
       "    <tr>\n",
       "      <th>12</th>\n",
       "      <td>vehicle</td>\n",
       "      <td>minivan</td>\n",
       "      <td>0.751028</td>\n",
       "      <td>21</td>\n",
       "    </tr>\n",
       "    <tr>\n",
       "      <th>2</th>\n",
       "      <td>house</td>\n",
       "      <td>cottage</td>\n",
       "      <td>0.851543</td>\n",
       "      <td>20</td>\n",
       "    </tr>\n",
       "    <tr>\n",
       "      <th>8</th>\n",
       "      <td>vehicle</td>\n",
       "      <td>car</td>\n",
       "      <td>0.928398</td>\n",
       "      <td>21</td>\n",
       "    </tr>\n",
       "  </tbody>\n",
       "</table>\n",
       "</div>"
      ],
      "text/plain": [
       "   category          subcategory  similarities  count\n",
       "16  vehicle      two-storey hous      0.204250     26\n",
       "6     house        short-sleeved      0.260327     39\n",
       "7   vehicle          calf-length      0.264653     18\n",
       "1     house                  bus      0.450055     30\n",
       "9   vehicle              caravan      0.553825     19\n",
       "0     house             bungalow      0.562262     28\n",
       "5     house  semi-detached house      0.611057     28\n",
       "14  vehicle           motorcycle      0.626619     14\n",
       "13  vehicle           motorcoach      0.658846     25\n",
       "11  vehicle                 lory      0.695402     21\n",
       "3     house            log-house      0.700266     23\n",
       "4     house   sem-detached house      0.710890     32\n",
       "10  vehicle                lorry      0.729326     21\n",
       "15  vehicle                truck      0.731364     14\n",
       "12  vehicle              minivan      0.751028     21\n",
       "2     house              cottage      0.851543     20\n",
       "8   vehicle                  car      0.928398     21"
      ]
     },
     "execution_count": 101,
     "metadata": {},
     "output_type": "execute_result"
    }
   ],
   "source": [
    "data.groupby(['category', 'subcategory']).agg({'similarities': 'mean', 'count': 'sum'}).reset_index().sort_values('similarities')"
   ]
  }
 ],
 "metadata": {
  "hide_input": false,
  "kernelspec": {
   "display_name": "Python 3",
   "language": "python",
   "name": "python3"
  },
  "language_info": {
   "codemirror_mode": {
    "name": "ipython",
    "version": 3
   },
   "file_extension": ".py",
   "mimetype": "text/x-python",
   "name": "python",
   "nbconvert_exporter": "python",
   "pygments_lexer": "ipython3",
   "version": "3.8.6"
  },
  "toc": {
   "base_numbering": 1,
   "nav_menu": {},
   "number_sections": true,
   "sideBar": true,
   "skip_h1_title": false,
   "title_cell": "Table of Contents",
   "title_sidebar": "Contents",
   "toc_cell": false,
   "toc_position": {},
   "toc_section_display": true,
   "toc_window_display": false
  },
  "varInspector": {
   "cols": {
    "lenName": 16,
    "lenType": 16,
    "lenVar": 40
   },
   "kernels_config": {
    "python": {
     "delete_cmd_postfix": "",
     "delete_cmd_prefix": "del ",
     "library": "var_list.py",
     "varRefreshCmd": "print(var_dic_list())"
    },
    "r": {
     "delete_cmd_postfix": ") ",
     "delete_cmd_prefix": "rm(",
     "library": "var_list.r",
     "varRefreshCmd": "cat(var_dic_list()) "
    }
   },
   "types_to_exclude": [
    "module",
    "function",
    "builtin_function_or_method",
    "instance",
    "_Feature"
   ],
   "window_display": false
  }
 },
 "nbformat": 4,
 "nbformat_minor": 4
}
